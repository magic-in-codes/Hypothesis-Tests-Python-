{
 "cells": [
  {
   "cell_type": "markdown",
   "id": "f8ae3abf",
   "metadata": {},
   "source": [
    "#  T- test\n",
    "## T-test is a type of inferential statistic which is used to determine if there is a significant difference between the means of two groups which may be related in certain features."
   ]
  },
  {
   "cell_type": "markdown",
   "id": "f3f96e65",
   "metadata": {},
   "source": [
    "### A : 1 way 1 -sample t-test\n",
    "#### Compare 50 samples of blood pressure of patients with mean of all records of blood pressure.\n",
    "\n"
   ]
  },
  {
   "cell_type": "code",
   "execution_count": 4,
   "id": "dc5648a8",
   "metadata": {},
   "outputs": [],
   "source": [
    "import numpy as np\n",
    "import pandas as pd\n",
    "import seaborn as sns\n",
    "import matplotlib.pyplot as plt"
   ]
  },
  {
   "cell_type": "code",
   "execution_count": 5,
   "id": "964053a3",
   "metadata": {},
   "outputs": [],
   "source": [
    "blood_pressure = np.random.normal(loc=120,scale=15,size=50)\n"
   ]
  },
  {
   "cell_type": "code",
   "execution_count": 6,
   "id": "7cb6a91f",
   "metadata": {},
   "outputs": [],
   "source": [
    "mean_population = 130"
   ]
  },
  {
   "cell_type": "markdown",
   "id": "df76d319",
   "metadata": {},
   "source": [
    "##### Scenario 1 : "
   ]
  },
  {
   "cell_type": "code",
   "execution_count": 7,
   "id": "51c4ef4f",
   "metadata": {},
   "outputs": [
    {
     "name": "stdout",
     "output_type": "stream",
     "text": [
      "T_statistical value :  -7.236399522362139\n",
      "P_value :  1.428468406276194e-09\n"
     ]
    }
   ],
   "source": [
    "# Null Hypothesis = mean of sample is greater then mean of sample\n",
    "#Altenative Hopothesis = opposite to null hypothesis\n",
    "# z (significance level = 0.05)\n",
    "import scipy.stats as stats\n",
    "t,p = stats.ttest_1samp(blood_pressure, mean_population,alternative='less')\n",
    "print(\"T_statistical value : \",t)\n",
    "print(\"P_value : \",p)"
   ]
  },
  {
   "cell_type": "code",
   "execution_count": 8,
   "id": "0852ee15",
   "metadata": {},
   "outputs": [
    {
     "name": "stdout",
     "output_type": "stream",
     "text": [
      "Reject Null Hypothesis, mean of sample is less than predefine mean(accept Alternative)\n"
     ]
    }
   ],
   "source": [
    "if p <0.05 :\n",
    "    print(\"Reject Null Hypothesis, mean of sample is less than predefine mean(accept Alternative)\")\n",
    "else:\n",
    "    print(\"Accept the Null Hypothesis\")\n",
    "    "
   ]
  },
  {
   "cell_type": "markdown",
   "id": "4fe3a694",
   "metadata": {},
   "source": [
    "#### Scenario 2 :"
   ]
  },
  {
   "cell_type": "code",
   "execution_count": 9,
   "id": "3aec2a9f",
   "metadata": {},
   "outputs": [
    {
     "name": "stdout",
     "output_type": "stream",
     "text": [
      "T_statistical value :  -7.236399522362139\n",
      "P_value :  0.9999999985715317\n",
      "Accept the Null Hypothesis\n"
     ]
    }
   ],
   "source": [
    "# Null Hypothesis = mean of sample is less than mean of sample\n",
    "#Altenative Hopothesis = opposite to null hypothesis\n",
    "# z (significance level = 0.05)\n",
    "import scipy.stats as stats\n",
    "t,p = stats.ttest_1samp(blood_pressure, mean_population,alternative='greater')\n",
    "print(\"T_statistical value : \",t)\n",
    "print(\"P_value : \",p)\n",
    "if p <0.05 :\n",
    "    print(\"Reject Null Hypothesis, mean of sample is greater than predefine mean(accept Alternative)\")\n",
    "else:\n",
    "    print(\"Accept the Null Hypothesis\")\n",
    "    "
   ]
  },
  {
   "cell_type": "markdown",
   "id": "07934225",
   "metadata": {},
   "source": [
    "### B : 2 - way 1-sample t-test\n",
    "#### \tCompare mean of a given sample with a preconcived mean value.\n"
   ]
  },
  {
   "cell_type": "code",
   "execution_count": 10,
   "id": "7a9bcd66",
   "metadata": {},
   "outputs": [
    {
     "name": "stdout",
     "output_type": "stream",
     "text": [
      "T_statistical value :  -7.236399522362139\n",
      "P_value :  2.856936812552388e-09\n",
      "Reject Null Hypothesis, mean of sample is equal to  preconvived mean(accept Alternative)\n"
     ]
    }
   ],
   "source": [
    "#Null Hypothesis = mean of sample is equal to preconvied mean\n",
    "preconcived_mean = 130\n",
    "import scipy.stats as stats\n",
    "t1,p1 = stats.ttest_1samp(blood_pressure,preconcived_mean)\n",
    "print(\"T_statistical value : \",t1)\n",
    "print(\"P_value : \",p1)\n",
    "if p1 <0.05 :\n",
    "    print(\"Reject Null Hypothesis, mean of sample is equal to  preconvived mean(accept Alternative)\")\n",
    "else:\n",
    "    print(\"Accept the Null Hypothesis\")"
   ]
  },
  {
   "cell_type": "markdown",
   "id": "06842554",
   "metadata": {},
   "source": [
    "### C : Paired Sample T-test\n",
    "####\tPaired or unpaired : Whether the two groups of data are drawn from the same or diffferent individuals\n",
    "        For Instance,\n",
    "        Paired : The same individuals self-report their stress levels before vs after social distancing\n",
    "\t    Unpaired : Change in social distancing-related stress in Denmark vs. Singapore\n"
   ]
  },
  {
   "cell_type": "markdown",
   "id": "a231c436",
   "metadata": {},
   "source": [
    "#### Lets take t-test check difference in anxiety level of people before and after any experiment"
   ]
  },
  {
   "cell_type": "code",
   "execution_count": 11,
   "id": "17a10e7b",
   "metadata": {},
   "outputs": [],
   "source": [
    "#Anxiety level before and after\n",
    "before = np.random.normal(loc =50,scale =15,size =50)\n",
    "after = np.random.normal(loc=10,scale =3, size=50)"
   ]
  },
  {
   "cell_type": "code",
   "execution_count": 12,
   "id": "31de743f",
   "metadata": {},
   "outputs": [
    {
     "name": "stdout",
     "output_type": "stream",
     "text": [
      "T_statistical value :  18.557967745723957\n",
      "P_value :  8.293166062114425e-24\n",
      "Reject Null Hypothesis, there is significant level of difference in anxiety level\n"
     ]
    }
   ],
   "source": [
    "#Null Hypothesis : There no significant difference in level anxiety before and after experiment\n",
    "t_paired,p_paired = stats.ttest_rel(before,after)\n",
    "print(\"T_statistical value : \",t_paired)\n",
    "print(\"P_value : \",p_paired)\n",
    "if p_paired <0.05 :\n",
    "    print(\"Reject Null Hypothesis, there is significant level of difference in anxiety level\")\n",
    "else:\n",
    "    print(\"Accept the Null Hypothesis\")"
   ]
  },
  {
   "cell_type": "markdown",
   "id": "a9ae72e3",
   "metadata": {},
   "source": [
    "### D : Independent Sample T-Test"
   ]
  },
  {
   "cell_type": "markdown",
   "id": "3177179b",
   "metadata": {},
   "source": [
    "#### \tEqual or unequal variance - Whether the two groups have (roughly) equal variance.\n",
    "\t\n",
    "##### Equal variance: Groups \"A\" and \"B\" are  20-year old students from the same university; group \"A\" studies engineering and group \"B\" studies computer science.\n",
    "\t\n",
    "#####  Unequal variance : Group \"A\" is  20-year old students at the same engineering university.  Group \"B\" is a random sample of 20 year olds from across the country.\n",
    "\t\n"
   ]
  },
  {
   "cell_type": "markdown",
   "id": "fc0f9231",
   "metadata": {},
   "source": [
    "### Scenerio 1 : Equal Variance "
   ]
  },
  {
   "cell_type": "code",
   "execution_count": 13,
   "id": "e8354e5c",
   "metadata": {},
   "outputs": [
    {
     "name": "stdout",
     "output_type": "stream",
     "text": [
      "Independent Samples t-test Results:\n",
      "T-statistic: 4.669741036776394\n",
      "P-value: 5.555868702275734e-06\n",
      "There is a significant difference between the groups.\n"
     ]
    }
   ],
   "source": [
    "# Generate example datasets\n",
    "A = np.random.normal(loc=80, scale=10, size=100)  # Scores of students group A\n",
    "B = np.random.normal(loc=75, scale=7, size=100)   # Scores of students group B\n",
    "\n",
    "# Perform independent samples t-test\n",
    "t_statistic, p_value = stats.ttest_ind(A,B,equal_var =True)\n",
    "print(\"Independent Samples t-test Results:\")\n",
    "print(\"T-statistic:\", t_statistic)\n",
    "print(\"P-value:\", p_value)\n",
    "if p_value < 0.05:\n",
    "    print(\"There is a significant difference between the groups.\")\n",
    "else:\n",
    "    print(\"There is no significant difference between the groups.\")"
   ]
  },
  {
   "cell_type": "markdown",
   "id": "4d69a258",
   "metadata": {},
   "source": [
    "### Scenerio 2 : Un-Equal Variance"
   ]
  },
  {
   "cell_type": "code",
   "execution_count": 14,
   "id": "7e755876",
   "metadata": {},
   "outputs": [
    {
     "name": "stdout",
     "output_type": "stream",
     "text": [
      "Independent Samples t-test Results:\n",
      "T-statistic: 4.669741036776394\n",
      "P-value: 5.835415779163853e-06\n",
      "There is a significant difference between the groups.\n"
     ]
    }
   ],
   "source": [
    "# Generate example datasets\n",
    "A1 = np.random.normal(loc=80, scale=10, size=100)  # Scores of students group A\n",
    "B2 = np.random.normal(loc=75, scale=50, size=100)   # Scores of students group B (across Country)\n",
    "\n",
    "# Perform independent samples t-test\n",
    "t_statistic_u, p_value_u = stats.ttest_ind(A,B,equal_var =False)\n",
    "print(\"Independent Samples t-test Results:\")\n",
    "print(\"T-statistic:\", t_statistic_u)\n",
    "print(\"P-value:\", p_value_u)\n",
    "if p_value_u < 0.05:\n",
    "    print(\"There is a significant difference between the groups.\")\n",
    "else:\n",
    "    print(\"There is no significant difference between the groups.\")"
   ]
  },
  {
   "cell_type": "markdown",
   "id": "666967f5",
   "metadata": {},
   "source": [
    "### Scenerio 3 : Two way - 2 Independent samples"
   ]
  },
  {
   "cell_type": "code",
   "execution_count": 18,
   "id": "f415219e",
   "metadata": {},
   "outputs": [
    {
     "name": "stdout",
     "output_type": "stream",
     "text": [
      "Independent Samples t-test Results:\n",
      "T-statistic: 4.669741036776394\n",
      "P-value: 2.9177078895819266e-06\n",
      "Accept Null, mean of Group A is greater than Group B\n"
     ]
    }
   ],
   "source": [
    "# Generate example datasets\n",
    "A1 = np.random.normal(loc=80, scale=10, size=100)  # Scores of students group A\n",
    "B2 = np.random.normal(loc=75, scale=50, size=100)   # Scores of students group B (across Country)\n",
    "\n",
    "# null :     Mean of Group A is greater than B\n",
    "#Alternative : Mean of Group A is less than B\n",
    "# Perform independent samples t-test\n",
    "t_statistic_u, p_value_u = stats.ttest_ind(A,B,equal_var =False,alternative ='greater')\n",
    "print(\"Independent Samples t-test Results:\")\n",
    "print(\"T-statistic:\", t_statistic_u)\n",
    "print(\"P-value:\", p_value_u)\n",
    "if p_value_u < 0.05:\n",
    "    print(\"Accept Null, mean of Group A is greater than Group B\")\n",
    "else:\n",
    "    print(\"Mean(group B)> Mean(Group A)\")"
   ]
  },
  {
   "cell_type": "code",
   "execution_count": 21,
   "id": "53de15e7",
   "metadata": {},
   "outputs": [
    {
     "name": "stdout",
     "output_type": "stream",
     "text": [
      "Independent Samples t-test Results:\n",
      "T-statistic: 4.669741036776394\n",
      "P-value: 0.9999970822921105\n",
      "Mean of Group A is greater than B\n"
     ]
    }
   ],
   "source": [
    "# Generate example datasets\n",
    "A1 = np.random.normal(loc=80, scale=10, size=100)  # Scores of students group A\n",
    "B2 = np.random.normal(loc=75, scale=50, size=100)   # Scores of students group B (across Country)\n",
    "\n",
    "# null :     Mean of Group A is less than B\n",
    "#Alternative : Mean of Group A is greater than B\n",
    "\n",
    "# Perform independent samples t-test\n",
    "t_statistic_u, p_value_u = stats.ttest_ind(A,B,equal_var =False,alternative ='less')\n",
    "print(\"Independent Samples t-test Results:\")\n",
    "print(\"T-statistic:\", t_statistic_u)\n",
    "print(\"P-value:\", p_value_u)\n",
    "if p_value_u < 0.05:\n",
    "    print(\"Accept Null, Mean of Group A is less than B\")\n",
    "else:\n",
    "    print(\"Mean of Group A is greater than B\")"
   ]
  },
  {
   "cell_type": "code",
   "execution_count": null,
   "id": "169c5123",
   "metadata": {},
   "outputs": [],
   "source": []
  }
 ],
 "metadata": {
  "kernelspec": {
   "display_name": "Python 3 (ipykernel)",
   "language": "python",
   "name": "python3"
  },
  "language_info": {
   "codemirror_mode": {
    "name": "ipython",
    "version": 3
   },
   "file_extension": ".py",
   "mimetype": "text/x-python",
   "name": "python",
   "nbconvert_exporter": "python",
   "pygments_lexer": "ipython3",
   "version": "3.9.13"
  }
 },
 "nbformat": 4,
 "nbformat_minor": 5
}
