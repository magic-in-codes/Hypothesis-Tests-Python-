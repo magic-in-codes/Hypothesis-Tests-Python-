{
 "cells": [
  {
   "cell_type": "markdown",
   "id": "6e32cbe0",
   "metadata": {},
   "source": [
    "## ANOVA (Analysis of Variance) test\n",
    "### Is a statistical technique used to compare the means of three or more groups to determine whether there are statistically significant differences between them.\n"
   ]
  },
  {
   "cell_type": "markdown",
   "id": "58891eda",
   "metadata": {},
   "source": [
    "#### Key points :\n",
    "### When to use : \n",
    "####                         Independent variable is categorical, dependent variable is numerical\n",
    "### Goal  : \n",
    "####                         To determine the effects of discrete independent variables(groups,levels) on a continuous dependent variable\n"
   ]
  },
  {
   "cell_type": "markdown",
   "id": "0ab8e94f",
   "metadata": {},
   "source": [
    "#### Assumptions :\n",
    "\n",
    "####  1 Normal Distribution  (Data is distributed normally)\n",
    "####  2 No Outliers\n",
    "####  3 Homoginity of Variance , Each one of the populations has same variance( σ2 =σ2=σ2...)\n",
    "####      Population variance in different levels of each independent variable are equal\n",
    "####  4 Sample are independent & random"
   ]
  },
  {
   "cell_type": "markdown",
   "id": "5d52068c",
   "metadata": {},
   "source": [
    "### \n",
    "### Null Hypothesis (H0): The null hypothesis in ANOVA states that there is no significant difference between the means of the groups being compared.\n",
    "### Alternative Hypothesis (HA): Alternative hypothesis in ANOVA states that at least one of the group means is different from the others.\n"
   ]
  },
  {
   "cell_type": "markdown",
   "id": "bf6e9e8d",
   "metadata": {},
   "source": [
    "### Factors (Variables) : obseravation  , Levels :\n",
    "###  Factors = Medicines, Levels  : 5mg, 10mg, 20mg"
   ]
  },
  {
   "cell_type": "markdown",
   "id": "08ffaf3f",
   "metadata": {},
   "source": [
    "## 1 :- Anova 1-way\n"
   ]
  },
  {
   "cell_type": "code",
   "execution_count": 5,
   "id": "eea57f3d",
   "metadata": {},
   "outputs": [],
   "source": [
    "# import required libraries\n",
    "import numpy as np\n",
    "import pandas as pd\n",
    "import pingouin as pg"
   ]
  },
  {
   "cell_type": "code",
   "execution_count": 6,
   "id": "5752f35c",
   "metadata": {},
   "outputs": [],
   "source": [
    "#Example data: three groups with sample observations\n",
    "group1 = np.random.normal(loc=4,scale=5,size = 40)\n",
    "group2 = np.random.normal(loc=6,scale=5,size = 40)\n",
    "group3 = np.random.normal(loc=9,scale=5,size = 40)"
   ]
  },
  {
   "cell_type": "code",
   "execution_count": 7,
   "id": "132b5336",
   "metadata": {},
   "outputs": [],
   "source": [
    "# stack group data horizonatlly \n",
    "stacked_data = np.hstack((group1,group2,group3))"
   ]
  },
  {
   "cell_type": "code",
   "execution_count": 8,
   "id": "e21d049b",
   "metadata": {},
   "outputs": [
    {
     "data": {
      "text/plain": [
       "array([-3.5986985 , -1.63214297, 11.91994313,  3.0633225 ,  3.66768437,\n",
       "        7.99994252,  9.79356845, 13.50517083,  1.26960493, -2.10572008,\n",
       "       -0.33698704, 13.37827244,  5.64858601, 13.83018561, -8.22255284,\n",
       "        0.28930549,  0.97126958,  5.46825234,  8.67334027,  6.01979633,\n",
       "       -8.7149772 ,  8.65763506, 10.05916819, -2.19739256, 12.77301854,\n",
       "        9.45019003,  3.9330099 , -0.42829458,  2.44724784, 10.46160474,\n",
       "        5.1111035 , -1.25214034,  3.72457386,  6.03449285,  4.75759064,\n",
       "       -5.77297583, -1.02397464,  4.00304138,  4.68881227,  5.67813945,\n",
       "        2.60848165,  2.73692937, 14.57291043, 11.35075597,  1.01852381,\n",
       "        7.43785634,  3.69386314,  8.79512869,  9.85259955, -0.76841197,\n",
       "        1.89256124, 16.50928975,  8.27669597, 10.23101447,  4.0928499 ,\n",
       "       14.17561708, 11.24801184,  5.60047306,  8.42371801,  4.37750275,\n",
       "        4.17764732,  5.05645539,  7.27159401,  7.44801194,  4.90826175,\n",
       "        7.63300792,  4.43967455, -1.92359867, 12.43979088,  8.94923979,\n",
       "       -0.30090712,  6.96939894,  5.99853262,  7.87538508,  3.48073745,\n",
       "       -1.5148516 , 10.68804661, 10.23141129,  7.75064262, -4.42228191,\n",
       "       11.08528373,  9.52713373, 11.42600155, 12.82241234,  0.49235315,\n",
       "        3.11034162, 11.56275789,  6.90243456, 10.48379023, 13.60045721,\n",
       "       14.49937191, 16.79067552, 11.69868878, 13.50431181,  6.67664187,\n",
       "       17.4682698 ,  9.56468576,  0.10856047,  9.61566903,  6.14310872,\n",
       "        5.61878359, 13.99799206, 11.98038216,  2.54125304, 19.4641662 ,\n",
       "        3.50319847, 10.82020765,  3.48399401,  8.53906285,  8.6337306 ,\n",
       "       13.12333654,  3.03493889, 11.16503005,  6.20493952,  8.60317528,\n",
       "       18.59761152, 11.04745993,  2.90812615, 13.09794095,  8.95172345])"
      ]
     },
     "execution_count": 8,
     "metadata": {},
     "output_type": "execute_result"
    }
   ],
   "source": [
    "stacked_data"
   ]
  },
  {
   "cell_type": "code",
   "execution_count": 9,
   "id": "c169b4cb",
   "metadata": {},
   "outputs": [],
   "source": [
    "labels = ['Group1']*len(group1) +['Group2']*len(group2)+['Group3']*len(group3)\n"
   ]
  },
  {
   "cell_type": "code",
   "execution_count": 10,
   "id": "0bb85a99",
   "metadata": {},
   "outputs": [
    {
     "data": {
      "text/html": [
       "<div>\n",
       "<style scoped>\n",
       "    .dataframe tbody tr th:only-of-type {\n",
       "        vertical-align: middle;\n",
       "    }\n",
       "\n",
       "    .dataframe tbody tr th {\n",
       "        vertical-align: top;\n",
       "    }\n",
       "\n",
       "    .dataframe thead th {\n",
       "        text-align: right;\n",
       "    }\n",
       "</style>\n",
       "<table border=\"1\" class=\"dataframe\">\n",
       "  <thead>\n",
       "    <tr style=\"text-align: right;\">\n",
       "      <th></th>\n",
       "      <th>Observation</th>\n",
       "      <th>Group</th>\n",
       "    </tr>\n",
       "  </thead>\n",
       "  <tbody>\n",
       "    <tr>\n",
       "      <th>115</th>\n",
       "      <td>18.597612</td>\n",
       "      <td>Group3</td>\n",
       "    </tr>\n",
       "    <tr>\n",
       "      <th>116</th>\n",
       "      <td>11.047460</td>\n",
       "      <td>Group3</td>\n",
       "    </tr>\n",
       "    <tr>\n",
       "      <th>117</th>\n",
       "      <td>2.908126</td>\n",
       "      <td>Group3</td>\n",
       "    </tr>\n",
       "    <tr>\n",
       "      <th>118</th>\n",
       "      <td>13.097941</td>\n",
       "      <td>Group3</td>\n",
       "    </tr>\n",
       "    <tr>\n",
       "      <th>119</th>\n",
       "      <td>8.951723</td>\n",
       "      <td>Group3</td>\n",
       "    </tr>\n",
       "  </tbody>\n",
       "</table>\n",
       "</div>"
      ],
      "text/plain": [
       "     Observation   Group\n",
       "115    18.597612  Group3\n",
       "116    11.047460  Group3\n",
       "117     2.908126  Group3\n",
       "118    13.097941  Group3\n",
       "119     8.951723  Group3"
      ]
     },
     "execution_count": 10,
     "metadata": {},
     "output_type": "execute_result"
    }
   ],
   "source": [
    "final_data=pd.DataFrame({'Observation' :stacked_data,'Group' : labels  })\n",
    "final_data.tail()"
   ]
  },
  {
   "cell_type": "code",
   "execution_count": 11,
   "id": "6123514e",
   "metadata": {},
   "outputs": [
    {
     "data": {
      "text/html": [
       "<div>\n",
       "<style scoped>\n",
       "    .dataframe tbody tr th:only-of-type {\n",
       "        vertical-align: middle;\n",
       "    }\n",
       "\n",
       "    .dataframe tbody tr th {\n",
       "        vertical-align: top;\n",
       "    }\n",
       "\n",
       "    .dataframe thead th {\n",
       "        text-align: right;\n",
       "    }\n",
       "</style>\n",
       "<table border=\"1\" class=\"dataframe\">\n",
       "  <thead>\n",
       "    <tr style=\"text-align: right;\">\n",
       "      <th></th>\n",
       "      <th>Source</th>\n",
       "      <th>ddof1</th>\n",
       "      <th>ddof2</th>\n",
       "      <th>F</th>\n",
       "      <th>p-unc</th>\n",
       "      <th>np2</th>\n",
       "    </tr>\n",
       "  </thead>\n",
       "  <tbody>\n",
       "    <tr>\n",
       "      <th>0</th>\n",
       "      <td>Group</td>\n",
       "      <td>2</td>\n",
       "      <td>117</td>\n",
       "      <td>11.542236</td>\n",
       "      <td>0.000027</td>\n",
       "      <td>0.16479</td>\n",
       "    </tr>\n",
       "  </tbody>\n",
       "</table>\n",
       "</div>"
      ],
      "text/plain": [
       "  Source  ddof1  ddof2          F     p-unc      np2\n",
       "0  Group      2    117  11.542236  0.000027  0.16479"
      ]
     },
     "execution_count": 11,
     "metadata": {},
     "output_type": "execute_result"
    }
   ],
   "source": [
    "#lets perform ANOVA test to see is there any differennce in the disctribution among 3 groups\n",
    "anova_result = pg.anova(data=final_data,dv='Observation',between = 'Group')\n",
    "anova_result"
   ]
  },
  {
   "cell_type": "markdown",
   "id": "f5871262",
   "metadata": {},
   "source": [
    "#### p_value < 0.05 , thats we need to reject null hypothesis , there is difference in mean of 3 gorups.\n",
    "#### Lets do post_hoc analysis to analyze individula groups"
   ]
  },
  {
   "cell_type": "code",
   "execution_count": 12,
   "id": "15c350ed",
   "metadata": {},
   "outputs": [
    {
     "data": {
      "text/html": [
       "<div>\n",
       "<style scoped>\n",
       "    .dataframe tbody tr th:only-of-type {\n",
       "        vertical-align: middle;\n",
       "    }\n",
       "\n",
       "    .dataframe tbody tr th {\n",
       "        vertical-align: top;\n",
       "    }\n",
       "\n",
       "    .dataframe thead th {\n",
       "        text-align: right;\n",
       "    }\n",
       "</style>\n",
       "<table border=\"1\" class=\"dataframe\">\n",
       "  <thead>\n",
       "    <tr style=\"text-align: right;\">\n",
       "      <th></th>\n",
       "      <th>A</th>\n",
       "      <th>B</th>\n",
       "      <th>mean(A)</th>\n",
       "      <th>mean(B)</th>\n",
       "      <th>diff</th>\n",
       "      <th>se</th>\n",
       "      <th>T</th>\n",
       "      <th>p-tukey</th>\n",
       "      <th>hedges</th>\n",
       "    </tr>\n",
       "  </thead>\n",
       "  <tbody>\n",
       "    <tr>\n",
       "      <th>0</th>\n",
       "      <td>Group1</td>\n",
       "      <td>Group2</td>\n",
       "      <td>4.049800</td>\n",
       "      <td>6.332064</td>\n",
       "      <td>-2.282264</td>\n",
       "      <td>1.152468</td>\n",
       "      <td>-1.980327</td>\n",
       "      <td>0.121598</td>\n",
       "      <td>-0.426156</td>\n",
       "    </tr>\n",
       "    <tr>\n",
       "      <th>1</th>\n",
       "      <td>Group1</td>\n",
       "      <td>Group3</td>\n",
       "      <td>4.049800</td>\n",
       "      <td>9.560000</td>\n",
       "      <td>-5.510200</td>\n",
       "      <td>1.152468</td>\n",
       "      <td>-4.781217</td>\n",
       "      <td>0.000015</td>\n",
       "      <td>-1.017266</td>\n",
       "    </tr>\n",
       "    <tr>\n",
       "      <th>2</th>\n",
       "      <td>Group2</td>\n",
       "      <td>Group3</td>\n",
       "      <td>6.332064</td>\n",
       "      <td>9.560000</td>\n",
       "      <td>-3.227936</td>\n",
       "      <td>1.152468</td>\n",
       "      <td>-2.800889</td>\n",
       "      <td>0.016317</td>\n",
       "      <td>-0.669737</td>\n",
       "    </tr>\n",
       "  </tbody>\n",
       "</table>\n",
       "</div>"
      ],
      "text/plain": [
       "        A       B   mean(A)   mean(B)      diff        se         T   p-tukey  \\\n",
       "0  Group1  Group2  4.049800  6.332064 -2.282264  1.152468 -1.980327  0.121598   \n",
       "1  Group1  Group3  4.049800  9.560000 -5.510200  1.152468 -4.781217  0.000015   \n",
       "2  Group2  Group3  6.332064  9.560000 -3.227936  1.152468 -2.800889  0.016317   \n",
       "\n",
       "     hedges  \n",
       "0 -0.426156  \n",
       "1 -1.017266  \n",
       "2 -0.669737  "
      ]
     },
     "execution_count": 12,
     "metadata": {},
     "output_type": "execute_result"
    }
   ],
   "source": [
    "pg.pairwise_tukey(data=final_data,dv='Observation',between = 'Group')\n"
   ]
  },
  {
   "cell_type": "code",
   "execution_count": 13,
   "id": "ee75d049",
   "metadata": {},
   "outputs": [
    {
     "data": {
      "text/plain": [
       "<AxesSubplot:xlabel='Group', ylabel='Observation'>"
      ]
     },
     "execution_count": 13,
     "metadata": {},
     "output_type": "execute_result"
    },
    {
     "data": {
      "image/png": "[encoded data removed]",
      "text/plain": [
       "<Figure size 640x480 with 1 Axes>"
      ]
     },
     "metadata": {},
     "output_type": "display_data"
    }
   ],
   "source": [
    "import seaborn as sns\n",
    "sns.boxplot(data=final_data,y= 'Observation',x='Group')"
   ]
  },
  {
   "cell_type": "markdown",
   "id": "f0d307dc",
   "metadata": {},
   "source": [
    "## 2: 2_way_mixed_anova\n",
    "\n",
    "####  No of Factors : 2 or more\n",
    "####  No of Levels : 2 or more "
   ]
  },
  {
   "cell_type": "code",
   "execution_count": 43,
   "id": "5f7a4d62",
   "metadata": {},
   "outputs": [
    {
     "name": "stdout",
     "output_type": "stream",
     "text": [
      "   Subject_ID Between_Factor Within_Factor  Dependent_Variable\n",
      "0           0        Group A       Level_1            9.895891\n",
      "1           0        Group A       Level_2            9.959554\n",
      "2           0        Group A       Level_3            8.603578\n",
      "3           1        Group B       Level_1            6.503470\n",
      "4           1        Group B       Level_2            7.921016\n"
     ]
    }
   ],
   "source": [
    "# Define number of subjects, levels for within-subject factor, and levels for between-subject factor\n",
    "num_subjects = 50\n",
    "levels_within = 3\n",
    "levels_between = 2\n",
    "\n",
    "# Generate random data for within-subject factor\n",
    "within_data = np.random.randint(1, 10, size=(num_subjects, levels_within))\n",
    "\n",
    "# Generate random data for between-subject factor\n",
    "between_data = np.random.choice(['Group A', 'Group B'], size=num_subjects)\n",
    "\n",
    "# Generate random data for dependent variable\n",
    "dependent_variable = np.random.normal(loc=10, scale=2, size=(num_subjects, levels_within))\n",
    "\n",
    "# Flatten the data into a DataFrame\n",
    "data = {'Subject_ID': [], 'Between_Factor': [], 'Within_Factor': [], 'Dependent_Variable': []}\n",
    "\n",
    "for subject, between_group in zip(range(num_subjects), between_data):\n",
    "    for level, within_value in enumerate(within_data[subject]):\n",
    "        data['Subject_ID'].append(subject)\n",
    "        data['Between_Factor'].append(between_group)\n",
    "        data['Within_Factor'].append(f'Level_{level + 1}')\n",
    "        data['Dependent_Variable'].append(dependent_variable[subject, level])\n",
    "\n",
    "df = pd.DataFrame(data)\n",
    "\n",
    "# Display first few rows of the DataFrame\n",
    "print(df.head())\n"
   ]
  },
  {
   "cell_type": "code",
   "execution_count": 47,
   "id": "4faaeae4",
   "metadata": {},
   "outputs": [
    {
     "data": {
      "text/html": [
       "<div>\n",
       "<style scoped>\n",
       "    .dataframe tbody tr th:only-of-type {\n",
       "        vertical-align: middle;\n",
       "    }\n",
       "\n",
       "    .dataframe tbody tr th {\n",
       "        vertical-align: top;\n",
       "    }\n",
       "\n",
       "    .dataframe thead th {\n",
       "        text-align: right;\n",
       "    }\n",
       "</style>\n",
       "<table border=\"1\" class=\"dataframe\">\n",
       "  <thead>\n",
       "    <tr style=\"text-align: right;\">\n",
       "      <th></th>\n",
       "      <th>Source</th>\n",
       "      <th>SS</th>\n",
       "      <th>DF1</th>\n",
       "      <th>DF2</th>\n",
       "      <th>MS</th>\n",
       "      <th>F</th>\n",
       "      <th>p-unc</th>\n",
       "      <th>np2</th>\n",
       "      <th>eps</th>\n",
       "    </tr>\n",
       "  </thead>\n",
       "  <tbody>\n",
       "    <tr>\n",
       "      <th>0</th>\n",
       "      <td>Between_Factor</td>\n",
       "      <td>0.083816</td>\n",
       "      <td>1</td>\n",
       "      <td>48</td>\n",
       "      <td>0.083816</td>\n",
       "      <td>0.021041</td>\n",
       "      <td>0.885274</td>\n",
       "      <td>0.000438</td>\n",
       "      <td>NaN</td>\n",
       "    </tr>\n",
       "    <tr>\n",
       "      <th>1</th>\n",
       "      <td>Within_Factor</td>\n",
       "      <td>4.110920</td>\n",
       "      <td>2</td>\n",
       "      <td>96</td>\n",
       "      <td>2.055460</td>\n",
       "      <td>0.556452</td>\n",
       "      <td>0.575077</td>\n",
       "      <td>0.011460</td>\n",
       "      <td>0.940043</td>\n",
       "    </tr>\n",
       "    <tr>\n",
       "      <th>2</th>\n",
       "      <td>Interaction</td>\n",
       "      <td>10.341365</td>\n",
       "      <td>2</td>\n",
       "      <td>96</td>\n",
       "      <td>5.170683</td>\n",
       "      <td>1.399802</td>\n",
       "      <td>0.251634</td>\n",
       "      <td>0.028336</td>\n",
       "      <td>NaN</td>\n",
       "    </tr>\n",
       "  </tbody>\n",
       "</table>\n",
       "</div>"
      ],
      "text/plain": [
       "           Source         SS  DF1  DF2        MS         F     p-unc  \\\n",
       "0  Between_Factor   0.083816    1   48  0.083816  0.021041  0.885274   \n",
       "1   Within_Factor   4.110920    2   96  2.055460  0.556452  0.575077   \n",
       "2     Interaction  10.341365    2   96  5.170683  1.399802  0.251634   \n",
       "\n",
       "        np2       eps  \n",
       "0  0.000438       NaN  \n",
       "1  0.011460  0.940043  \n",
       "2  0.028336       NaN  "
      ]
     },
     "execution_count": 47,
     "metadata": {},
     "output_type": "execute_result"
    }
   ],
   "source": [
    "pg.mixed_anova(data=df, dv='Dependent_Variable',between='Between_Factor',within='Within_Factor',subject='Subject_ID')"
   ]
  },
  {
   "cell_type": "code",
   "execution_count": null,
   "id": "7e31a315",
   "metadata": {},
   "outputs": [],
   "source": []
  }
 ],
 "metadata": {
  "kernelspec": {
   "display_name": "Python 3 (ipykernel)",
   "language": "python",
   "name": "python3"
  },
  "language_info": {
   "codemirror_mode": {
    "name": "ipython",
    "version": 3
   },
   "file_extension": ".py",
   "mimetype": "text/x-python",
   "name": "python",
   "nbconvert_exporter": "python",
   "pygments_lexer": "ipython3",
   "version": "3.9.13"
  }
 },
 "nbformat": 4,
 "nbformat_minor": 5
}
